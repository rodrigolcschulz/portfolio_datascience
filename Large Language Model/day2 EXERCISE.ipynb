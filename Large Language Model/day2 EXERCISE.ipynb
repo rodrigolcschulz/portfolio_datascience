{
 "cells": [
  {
   "cell_type": "markdown",
   "id": "d15d8294-3328-4e07-ad16-8a03e9bbfdb9",
   "metadata": {},
   "source": [
    "# Welcome to your first assignment!\n",
    "\n",
    "Instructions are below. Please give this a try, and look in the solutions folder if you get stuck (or feel free to ask me!)"
   ]
  },
  {
   "cell_type": "markdown",
   "id": "ada885d9-4d42-4d9b-97f0-74fbbbfe93a9",
   "metadata": {},
   "source": [
    "<table style=\"margin: 0; text-align: left;\">\n",
    "    <tr>\n",
    "        <td style=\"width: 150px; height: 150px; vertical-align: middle;\">\n",
    "            <img src=\"../resources.jpg\" width=\"150\" height=\"150\" style=\"display: block;\" />\n",
    "        </td>\n",
    "        <td>\n",
    "            <h2 style=\"color:#f71;\">Just before we get to the assignment --</h2>\n",
    "            <span style=\"color:#f71;\">I thought I'd take a second to point you at this page of useful resources for the course. This includes links to all the slides.<br/>\n",
    "            <a href=\"https://edwarddonner.com/2024/11/13/llm-engineering-resources/\">https://edwarddonner.com/2024/11/13/llm-engineering-resources/</a><br/>\n",
    "            Please keep this bookmarked, and I'll continue to add more useful links there over time.\n",
    "            </span>\n",
    "        </td>\n",
    "    </tr>\n",
    "</table>"
   ]
  },
  {
   "cell_type": "markdown",
   "id": "6e9fa1fc-eac5-4d1d-9be4-541b3f2b3458",
   "metadata": {},
   "source": [
    "# HOMEWORK EXERCISE ASSIGNMENT\n",
    "\n",
    "Upgrade the day 1 project to summarize a webpage to use an Open Source model running locally via Ollama rather than OpenAI\n",
    "\n",
    "You'll be able to use this technique for all subsequent projects if you'd prefer not to use paid APIs.\n",
    "\n",
    "**Benefits:**\n",
    "1. No API charges - open-source\n",
    "2. Data doesn't leave your box\n",
    "\n",
    "**Disadvantages:**\n",
    "1. Significantly less power than Frontier Model\n",
    "\n",
    "## Recap on installation of Ollama\n",
    "\n",
    "Simply visit [ollama.com](https://ollama.com) and install!\n",
    "\n",
    "Once complete, the ollama server should already be running locally.  \n",
    "If you visit:  \n",
    "[http://localhost:11434/](http://localhost:11434/)\n",
    "\n",
    "You should see the message `Ollama is running`.  \n",
    "\n",
    "If not, bring up a new Terminal (Mac) or Powershell (Windows) and enter `ollama serve`  \n",
    "And in another Terminal (Mac) or Powershell (Windows), enter `ollama pull llama3.2`  \n",
    "Then try [http://localhost:11434/](http://localhost:11434/) again.\n",
    "\n",
    "If Ollama is slow on your machine, try using `llama3.2:1b` as an alternative. Run `ollama pull llama3.2:1b` from a Terminal or Powershell, and change the code below from `MODEL = \"llama3.2\"` to `MODEL = \"llama3.2:1b\"`"
   ]
  },
  {
   "cell_type": "code",
   "execution_count": 1,
   "id": "4e2a9393-7767-488e-a8bf-27c12dca35bd",
   "metadata": {},
   "outputs": [],
   "source": [
    "# imports\n",
    "\n",
    "import requests\n",
    "from bs4 import BeautifulSoup\n",
    "from IPython.display import Markdown, display"
   ]
  },
  {
   "cell_type": "code",
   "execution_count": 2,
   "id": "29ddd15d-a3c5-4f4e-a678-873f56162724",
   "metadata": {},
   "outputs": [],
   "source": [
    "# Constants\n",
    "\n",
    "OLLAMA_API = \"http://localhost:11434/api/chat\"\n",
    "HEADERS = {\"Content-Type\": \"application/json\"}\n",
    "MODEL = \"llama3.2\""
   ]
  },
  {
   "cell_type": "code",
   "execution_count": 3,
   "id": "dac0a679-599c-441f-9bf2-ddc73d35b940",
   "metadata": {},
   "outputs": [],
   "source": [
    "# Create a messages list using the same format that we used for OpenAI\n",
    "\n",
    "messages = [\n",
    "    {\"role\": \"user\", \"content\": \"Describe some of the business applications of Generative AI\"}\n",
    "]"
   ]
  },
  {
   "cell_type": "code",
   "execution_count": 4,
   "id": "7bb9c624-14f0-4945-a719-8ddb64f66f47",
   "metadata": {},
   "outputs": [],
   "source": [
    "payload = {\n",
    "        \"model\": MODEL,\n",
    "        \"messages\": messages,\n",
    "        \"stream\": False\n",
    "    }"
   ]
  },
  {
   "cell_type": "code",
   "execution_count": 5,
   "id": "42b9f644-522d-4e05-a691-56e7658c0ea9",
   "metadata": {},
   "outputs": [
    {
     "name": "stdout",
     "output_type": "stream",
     "text": [
      "Generative AI has numerous business applications across various industries, including:\n",
      "\n",
      "1. **Content Creation**: Generative AI can be used to generate high-quality content such as images, videos, and text. This can be applied in fields like advertising, marketing, and entertainment.\n",
      "2. **Personalization**: Generative AI can help personalize customer experiences by generating tailored recommendations, offers, and content based on individual preferences.\n",
      "3. **Chatbots and Virtual Assistants**: Generative AI can power chatbots and virtual assistants that can understand natural language and generate human-like responses, improving customer service and support.\n",
      "4. **Automated Content Moderation**: Generative AI can be used to analyze and moderate online content, detecting and removing inappropriate material.\n",
      "5. **Data Analysis and Visualization**: Generative AI can help analyze large datasets and generate insights, visualizations, and predictive models that can inform business decisions.\n",
      "6. **Product Design and Development**: Generative AI can aid in product design and development by generating prototypes, models, and 3D designs, reducing the time and cost associated with traditional design methods.\n",
      "7. **Music and Audio Generation**: Generative AI can be used to create new music tracks, sound effects, and audio content for various applications, such as film, gaming, and advertising.\n",
      "8. **Image and Video Editing**: Generative AI can assist in image and video editing tasks like object removal, enhancement, and manipulation.\n",
      "9. **Recommendation Systems**: Generative AI can help build more effective recommendation systems that suggest products or services based on user behavior and preferences.\n",
      "10. **Customer Service Automation**: Generative AI can automate customer service processes by generating responses to frequently asked questions, routing customers to human support agents when needed, and providing personalized support.\n",
      "11. **Predictive Maintenance**: Generative AI can be used in predictive maintenance to analyze sensor data from machines and predict potential failures or issues, allowing for proactive maintenance and reducing downtime.\n",
      "12. **Marketing Campaigns**: Generative AI can help create targeted marketing campaigns by generating content, images, and videos that resonate with specific audiences.\n",
      "13. **Supply Chain Optimization**: Generative AI can be used to optimize supply chain operations by predicting demand, managing inventory levels, and identifying potential bottlenecks.\n",
      "14. **Financial Modeling and Analysis**: Generative AI can aid in financial modeling and analysis by generating scenarios, forecasting revenue, and detecting anomalies in financial data.\n",
      "\n",
      "These are just a few examples of the many business applications of Generative AI. As the technology continues to evolve, we can expect to see even more innovative uses across various industries.\n"
     ]
    }
   ],
   "source": [
    "response = requests.post(OLLAMA_API, json=payload, headers=HEADERS)\n",
    "print(response.json()['message']['content'])"
   ]
  },
  {
   "cell_type": "markdown",
   "id": "6a021f13-d6a1-4b96-8e18-4eae49d876fe",
   "metadata": {},
   "source": [
    "# Introducing the ollama package\n",
    "\n",
    "And now we'll do the same thing, but using the elegant ollama python package instead of a direct HTTP call.\n",
    "\n",
    "Under the hood, it's making the same call as above to the ollama server running at localhost:11434"
   ]
  },
  {
   "cell_type": "code",
   "execution_count": 6,
   "id": "7745b9c4-57dc-4867-9180-61fa5db55eb8",
   "metadata": {},
   "outputs": [
    {
     "name": "stdout",
     "output_type": "stream",
     "text": [
      "Generative AI has numerous business applications across various industries. Here are some examples:\n",
      "\n",
      "1. **Content Creation**: Generative AI can create high-quality, personalized content such as:\n",
      " * Social media posts and articles\n",
      " * Product descriptions and reviews\n",
      " * Customer personas and social media avatars\n",
      " * Automated blog posts and news articles\n",
      "2. **Marketing Automation**: Generative AI can help automate marketing tasks such as:\n",
      " * Personalized email campaigns\n",
      " * Ad copywriting and ad targeting\n",
      " * Lead generation and qualification\n",
      " * Social media management and scheduling\n",
      "3. **Customer Service Chatbots**: Generative AI-powered chatbots can provide 24/7 customer support, answering frequently asked questions, and routing complex issues to human representatives.\n",
      "4. **Design and Graphics**: Generative AI can create:\n",
      " * Unique product designs and prototypes\n",
      " * Custom graphics and logos\n",
      " * Infographics and presentations\n",
      " * Animated videos and GIFs\n",
      "5. **Data Analysis and Visualization**: Generative AI can analyze large datasets, identify patterns, and generate insights into:\n",
      " * Market trends and customer behavior\n",
      " * Financial performance and forecasting\n",
      " * Operational efficiency and optimization\n",
      "6. **Product Development**: Generative AI can assist in product development by:\n",
      " * Generating new product ideas and concepts\n",
      " * Designing prototypes and mockups\n",
      " * Testing and validating product features\n",
      "7. **Music, Video, and Audio Production**: Generative AI can create music, videos, and audio content such as:\n",
      " * Music compositions and beats\n",
      " * Voiceovers and sound effects\n",
      " * Automated video editing and post-production\n",
      "8. **Fashion and Apparel Design**: Generative AI can design fashion items such as:\n",
      " * Clothing designs and patterns\n",
      " * Textiles and fabrics\n",
      " * Accessories and jewelry\n",
      "9. **Financial Modeling and Analysis**: Generative AI can analyze financial data, predict market trends, and generate forecasts for:\n",
      " * Investment portfolios and strategies\n",
      " * Financial risk management and mitigation\n",
      "10. **Education and Learning**: Generative AI can create personalized educational content such as:\n",
      " * Adaptive learning platforms and materials\n",
      " * Customized lesson plans and assessments\n",
      " * Interactive simulations and games\n",
      "\n",
      "These are just a few examples of the many business applications of Generative AI. As the technology continues to evolve, we can expect to see even more innovative uses in various industries.\n"
     ]
    }
   ],
   "source": [
    "import ollama\n",
    "\n",
    "response = ollama.chat(model=MODEL, messages=messages)\n",
    "print(response['message']['content'])"
   ]
  },
  {
   "cell_type": "markdown",
   "id": "a4704e10-f5fb-4c15-a935-f046c06fb13d",
   "metadata": {},
   "source": [
    "## Alternative approach - using OpenAI python library to connect to Ollama"
   ]
  },
  {
   "cell_type": "code",
   "execution_count": 7,
   "id": "23057e00-b6fc-4678-93a9-6b31cb704bff",
   "metadata": {},
   "outputs": [
    {
     "name": "stdout",
     "output_type": "stream",
     "text": [
      "Generative AI has far-reaching potential to transform various industries and business processes. Here are some examples of business applications of Generative AI:\n",
      "\n",
      "1. **Content Generation**: Generative AI can automatically create high-quality content, such as:\n",
      "\t* Articles, blog posts, and social media posts\n",
      "\t* Product descriptions and marketing copy\n",
      "\t* Music, videos, and audio tracks\n",
      "2. **Marketing Automation**: Generative AI can help with:\n",
      "\t* Personalized product recommendations\n",
      "\t* Automated ad targeting and optimization\n",
      "\t* Dynamic content creation for email campaigns\n",
      "3. **Graphic Design and Visual Creation**: Generative AI can generate:\n",
      "\t* Logos, icons, and branding materials\n",
      "\t* Images, illustrations, and textures\n",
      "\t* Animations, simulations, and interactive experiences\n",
      "4. **Data Analysis and Insights**: Generative AI can help analyze large datasets to extract valuable insights, such as:\n",
      "\t* Predictive modeling for customer behavior and market trends\n",
      "\t* Data visualization and reporting tools\n",
      "5. **Chatbots and Virtual Assistants**: Generative AI can power conversational interfaces, such as:\n",
      "\t* Chatbots for customer support and service\n",
      "\t* Virtual assistants for business operations and management\n",
      "6. **Language Translation**: Generative AI can help translate languages in real-time, enabling businesses to expand globally without language barriers.\n",
      "7. **Automated Writing Assistants**: Generative AI can assist writers with tasks like:\n",
      "\t* Outlining and structuring content\n",
      "\t* Suggesting alternative phrases and sentences\n",
      "8. **Product Design and Development**: Generative AI can help design and develop new products, such as:\n",
      "\t* Virtual product prototyping and simulation\n",
      "\t* Design optimization and testing tools\n",
      "9. **Customer Experience and Personalization**: Generative AI can create personalized experiences for customers, including:\n",
      "\t* Customized product recommendations\n",
      "\t* Tailored marketing messaging and campaigns\n",
      "10. **Predictive Maintenance and Risk Analysis**: Generative AI can analyze data to predict equipment failures, prevent maintenance costs, and identify potential risks.\n",
      "\n",
      "These business applications of Generative AI have the potential to transform industries such as:\n",
      "\n",
      "* Marketing and Advertising\n",
      "* Finance and Banking\n",
      "* Healthcare and Biotechnology\n",
      "* E-commerce and Retail\n",
      "* Education and Training\n",
      "\n",
      "As Generative AI continues to evolve, we can expect even more innovative and practical applications across various business domains.\n"
     ]
    }
   ],
   "source": [
    "# There's actually an alternative approach that some people might prefer\n",
    "# You can use the OpenAI client python library to call Ollama:\n",
    "\n",
    "from openai import OpenAI\n",
    "ollama_via_openai = OpenAI(base_url='http://localhost:11434/v1', api_key='ollama')\n",
    "\n",
    "response = ollama_via_openai.chat.completions.create(\n",
    "    model=MODEL,\n",
    "    messages=messages\n",
    ")\n",
    "\n",
    "print(response.choices[0].message.content)"
   ]
  },
  {
   "cell_type": "markdown",
   "id": "1622d9bb-5c68-4d4e-9ca4-b492c751f898",
   "metadata": {},
   "source": [
    "# NOW the exercise for you\n",
    "\n",
    "Take the code from day1 and incorporate it here, to build a website summarizer that uses Llama 3.2 running locally instead of OpenAI; use either of the above approaches."
   ]
  },
  {
   "cell_type": "code",
   "execution_count": 8,
   "id": "402d5686-4e76-4110-b65a-b3906c35c0a4",
   "metadata": {},
   "outputs": [
    {
     "name": "stdout",
     "output_type": "stream",
     "text": [
      "### Website Summary\n",
      "\n",
      "#### About the Author\n",
      "\n",
      "[@rodrigoschulz](https://linktree.com/p/@rodrigoschulz)\n",
      "\n",
      "#### Services and Expertise\n",
      "\n",
      "* Data Science\n",
      "* Business Intelligence\n",
      "* Data Analysis\n",
      "\n",
      "#### Tools and Platforms\n",
      "\n",
      "* Power BI\n",
      "* Github\n",
      "* Linkedin\n"
     ]
    }
   ],
   "source": [
    "# imports\n",
    "import requests\n",
    "from bs4 import BeautifulSoup\n",
    "\n",
    "# Constants\n",
    "OLLAMA_API = \"http://localhost:11434/api/chat\"\n",
    "HEADERS = {\"Content-Type\": \"application/json\"}\n",
    "MODEL = \"llama3.2\"\n",
    "\n",
    "# Website class for fetching and processing website content\n",
    "class Website:\n",
    "    def __init__(self, url):\n",
    "        \"\"\"\n",
    "        Create this Website object from the given URL using the BeautifulSoup library.\n",
    "        \"\"\"\n",
    "        self.url = url\n",
    "        headers = {\n",
    "            \"User-Agent\": \"Mozilla/5.0 (Windows NT 10.0; Win64; x64) AppleWebKit/537.36 (KHTML, like Gecko) Chrome/117.0.0.0 Safari/537.36\"\n",
    "        }\n",
    "        response = requests.get(url, headers=headers)\n",
    "        soup = BeautifulSoup(response.content, 'html.parser')\n",
    "        self.title = soup.title.string if soup.title else \"No title found\"\n",
    "        for irrelevant in soup.body([\"script\", \"style\", \"img\", \"input\"]):\n",
    "            irrelevant.decompose()\n",
    "        self.text = soup.body.get_text(separator=\"\\n\", strip=True)\n",
    "\n",
    "# Function to create a prompt for Llama\n",
    "def messages_for(website):\n",
    "    system_prompt = \"You are an assistant that analyzes the contents of a website and provides a short, concise summary in markdown. Ignore navigation and irrelevant elements.\"\n",
    "    user_prompt = f\"You are looking at a website titled: {website.title}\\n\\n\"\n",
    "    user_prompt += \"The contents of this website are as follows:\\n\"\n",
    "    user_prompt += website.text\n",
    "    user_prompt += \"\\n\\nPlease summarize the website in markdown format.\"\n",
    "    \n",
    "    return [\n",
    "        {\"role\": \"system\", \"content\": system_prompt},\n",
    "        {\"role\": \"user\", \"content\": user_prompt}\n",
    "    ]\n",
    "\n",
    "# Function to summarize a website\n",
    "def summarize(url):\n",
    "    website = Website(url)\n",
    "    messages = messages_for(website)\n",
    "    \n",
    "    payload = {\n",
    "        \"model\": MODEL,\n",
    "        \"messages\": messages,\n",
    "        \"stream\": False\n",
    "    }\n",
    "\n",
    "    response = requests.post(OLLAMA_API, json=payload, headers=HEADERS)\n",
    "    if response.status_code == 200:\n",
    "        return response.json()['message']['content']\n",
    "    else:\n",
    "        return f\"Error: {response.status_code} - {response.text}\"\n",
    "\n",
    "# Example usage\n",
    "url = \"https://linktr.ee/rodrigoschulz\"  # Replace with the URL you want to summarize\n",
    "summary = summarize(url)\n",
    "print(summary)"
   ]
  },
  {
   "cell_type": "code",
   "execution_count": 9,
   "id": "ab77bda9-cc5b-413f-b557-a1ac6c23b570",
   "metadata": {},
   "outputs": [
    {
     "name": "stdout",
     "output_type": "stream",
     "text": [
      "# Embrace the Devil\n",
      "## Overview\n",
      "Encyclopaedia Metallum's entry for Embrace the Devil, a Brazilian Black/Death Metal band.\n",
      "\n",
      "### Band Information\n",
      "* Country of origin: Brazil\n",
      "* Location: Campo Grande, Mato Grosso do Sul\n",
      "* Status: Active\n",
      "* Formed in: 2014\n",
      "* Genre: Black/Death Metal\n",
      "\n",
      "### Discography\n",
      "* Members listed\n",
      "\n",
      "### Related Links\n",
      "* Complete discography\n",
      "* Similar Artists\n",
      "* Related Links (no content provided)\n"
     ]
    }
   ],
   "source": [
    "url = \"https://www.metal-archives.com/bands/Embrace_the_Devil/3540500935\"  # Replace with the URL you want to summarize\n",
    "summary = summarize(url)\n",
    "print(summary)"
   ]
  },
  {
   "cell_type": "code",
   "execution_count": 10,
   "id": "09183d75-48f7-4a4d-9ca8-f777dc458c92",
   "metadata": {},
   "outputs": [
    {
     "name": "stdout",
     "output_type": "stream",
     "text": [
      "**MDPI Journal of Atmospheric Science and Technology**\n",
      "\n",
      "*   A scientific journal published by MDPI (Basel, Switzerland)\n",
      "*   Covers research on atmospheric science and technology topics\n",
      "*   Includes articles on climate change, weather patterns, air quality, and more\n",
      "*   Publishes papers in multiple languages, including English\n",
      "*   Free to access, with optional subscription or payment options for institutional access\n",
      "\n",
      "**Content Features**\n",
      "\n",
      "*   Peer-reviewed articles from international authors\n",
      "*   Coverage of the latest research and advancements in atmospheric science and technology\n",
      "*   Includes articles on climate change, weather patterns, air quality, and more\n",
      "*   Publishes papers in multiple languages, including English\n"
     ]
    }
   ],
   "source": [
    "url = \"https://www.mdpi.com/journal/atmosphere\"  # Replace with the URL you want to summarize\n",
    "summary = summarize(url)\n",
    "print(summary)"
   ]
  }
 ],
 "metadata": {
  "kernelspec": {
   "display_name": "Python 3 (ipykernel)",
   "language": "python",
   "name": "python3"
  },
  "language_info": {
   "codemirror_mode": {
    "name": "ipython",
    "version": 3
   },
   "file_extension": ".py",
   "mimetype": "text/x-python",
   "name": "python",
   "nbconvert_exporter": "python",
   "pygments_lexer": "ipython3",
   "version": "3.11.11"
  }
 },
 "nbformat": 4,
 "nbformat_minor": 5
}
